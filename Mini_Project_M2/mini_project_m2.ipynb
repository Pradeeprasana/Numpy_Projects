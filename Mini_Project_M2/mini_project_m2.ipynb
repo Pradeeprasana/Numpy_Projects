{
 "cells": [
  {
   "cell_type": "code",
   "execution_count": 2,
   "id": "6b69371f",
   "metadata": {},
   "outputs": [],
   "source": [
    "import numpy as np"
   ]
  },
  {
   "cell_type": "code",
   "execution_count": 3,
   "id": "c4242be8",
   "metadata": {},
   "outputs": [
    {
     "name": "stdout",
     "output_type": "stream",
     "text": [
      "['Pradeep' 'Goutham' 'Shaheen' 'Deepak' 'Hruthik']\n",
      "['Social' 'Maths' 'Science' 'Physics']\n",
      "[[78 96 75 84]\n",
      " [74 85 76 96]\n",
      " [74 95 78 69]\n",
      " [73 74 89 94]\n",
      " [74 84 75 95]]\n"
     ]
    }
   ],
   "source": [
    "#Data Creation\n",
    "\n",
    "students=np.array([\"Pradeep\",\"Goutham\",\"Shaheen\",\"Deepak\",\"Hruthik\"])\n",
    "subjects=np.array([\"Social\",\"Maths\",\"Science\",\"Physics\"])\n",
    "\n",
    "marks=np.array([\n",
    "    [78,96,75,84],\n",
    "    [74,85,76,96],\n",
    "    [74,95,78,69],\n",
    "    [73,74,89,94],\n",
    "    [74,84,75,95]])\n",
    "\n",
    "print(students)\n",
    "print(subjects)\n",
    "print(marks)"
   ]
  },
  {
   "cell_type": "code",
   "execution_count": 4,
   "id": "835f6faa",
   "metadata": {},
   "outputs": [
    {
     "name": "stdout",
     "output_type": "stream",
     "text": [
      "2\n",
      "(5, 4)\n",
      "20\n",
      "int64\n"
     ]
    }
   ],
   "source": [
    "#Data Exploration\n",
    "\n",
    "print(marks.ndim)\n",
    "print(marks.shape)\n",
    "print(marks.size)\n",
    "print(marks.dtype)"
   ]
  },
  {
   "cell_type": "code",
   "execution_count": 5,
   "id": "72bf6200",
   "metadata": {},
   "outputs": [
    {
     "name": "stdout",
     "output_type": "stream",
     "text": [
      "[[78 74 74 73 74]\n",
      " [96 85 95 74 84]\n",
      " [75 76 78 89 75]\n",
      " [84 96 69 94 95]]\n",
      "[78 96 75 84 74 85 76 96 74 95 78 69 73 74 89 94 74 84 75 95]\n"
     ]
    }
   ],
   "source": [
    "#Data Transformation\n",
    "\n",
    "marks_t=marks.T\n",
    "print(marks_t)\n",
    "\n",
    "flatten=marks.flatten()\n",
    "print(flatten)"
   ]
  },
  {
   "cell_type": "code",
   "execution_count": 6,
   "id": "1fec44bb",
   "metadata": {},
   "outputs": [
    {
     "name": "stdout",
     "output_type": "stream",
     "text": [
      "['Pradeep' 'Goutham' 'Shaheen' 'Deepak' 'Hruthik' 'Sidharth']\n",
      "[[78 96 75 84]\n",
      " [74 85 76 96]\n",
      " [74 95 78 69]\n",
      " [73 74 89 94]\n",
      " [74 84 75 95]\n",
      " [78 96 74 85]]\n",
      "[[78 96 75 84 96]\n",
      " [74 85 76 96 75]\n",
      " [74 95 78 69 48]\n",
      " [73 74 89 94 78]\n",
      " [74 84 75 95 45]\n",
      " [78 96 74 85 89]]\n",
      "['Social' 'Maths' 'Science' 'Physics' 'Computer']\n"
     ]
    }
   ],
   "source": [
    "#Data Combination\n",
    "\n",
    "new_student_marks=np.array([[78,96,74,85]])\n",
    "marks=np.vstack([marks, new_student_marks])\n",
    "students=np.append(students, \"Sidharth\")\n",
    "\n",
    "print(students)\n",
    "print(marks)\n",
    "\n",
    "new_subject_marks=np.array([[96], [75], [48] ,[78] , [45], [89]])\n",
    "marks=np.hstack([marks, new_subject_marks])\n",
    "subjects=np.append(subjects, \"Computer\")\n",
    "\n",
    "print(marks)\n",
    "print(subjects)"
   ]
  },
  {
   "cell_type": "code",
   "execution_count": 7,
   "id": "530538eb",
   "metadata": {},
   "outputs": [
    {
     "name": "stdout",
     "output_type": "stream",
     "text": [
      "76\n",
      "[[78 96 75 84 96]\n",
      " [74 85 90 96 75]\n",
      " [74 95 78 69 48]\n",
      " [73 74 89 94 78]\n",
      " [74 84 75 95 45]\n",
      " [78 96 74 85 89]]\n",
      "[[78 96 75 84 96]\n",
      " [74 85 90 96 75]\n",
      " [74 95 78 69 48]\n",
      " [73 74 89 94 78]\n",
      " [78 96 74 85 89]]\n",
      "['Pradeep' 'Goutham' 'Shaheen' 'Deepak' 'Sidharth']\n"
     ]
    }
   ],
   "source": [
    "#Data Modification\n",
    "\n",
    "print(marks[1,2])\n",
    "marks[1,2]=90\n",
    "print(marks)\n",
    "\n",
    "marks=np.delete(marks,4,axis=0)\n",
    "students=np.delete(students, 4)\n",
    "print(marks)\n",
    "print(students)"
   ]
  },
  {
   "cell_type": "code",
   "execution_count": 8,
   "id": "4b752147",
   "metadata": {},
   "outputs": [
    {
     "name": "stdout",
     "output_type": "stream",
     "text": [
      "[[78. 96. 75. 84. 96.]\n",
      " [74. 85. 90. 96. 75.]\n",
      " [74. 95. 78. 69. 48.]\n",
      " [73. 74. 89. 94. 78.]\n",
      " [78. 96. 74. 85. 89.]]\n",
      "[['78' '96' '75' '84' '96']\n",
      " ['74' '85' '90' '96' '75']\n",
      " ['74' '95' '78' '69' '48']\n",
      " ['73' '74' '89' '94' '78']\n",
      " ['78' '96' '74' '85' '89']]\n"
     ]
    }
   ],
   "source": [
    "#Data type handling\n",
    "\n",
    "marks_float=marks.astype(float)\n",
    "print(marks_float)\n",
    "\n",
    "marks_str=marks.astype(str)\n",
    "print(marks_str)"
   ]
  },
  {
   "cell_type": "code",
   "execution_count": 9,
   "id": "1457f354",
   "metadata": {},
   "outputs": [
    {
     "name": "stdout",
     "output_type": "stream",
     "text": [
      "[[78 96 75 84 96]\n",
      " [74 85 90 96 75]\n",
      " [74 95 78 69 48]\n",
      " [73 74 89 94 78]\n",
      " [78 96 74 85 89]]\n",
      "[[100  96  75  84  96]\n",
      " [ 74  85  90  96  75]\n",
      " [ 74  95  78  69  48]\n",
      " [ 73  74  89  94  78]\n",
      " [ 78  96  74  85  89]]\n"
     ]
    }
   ],
   "source": [
    "#Copy vs view\n",
    "\n",
    "copy_marks=marks.copy()\n",
    "view_marks=marks.view()\n",
    "\n",
    "view_marks[0,0]=100\n",
    "\n",
    "print(copy_marks) #unaffected\n",
    "print(view_marks) #affected"
   ]
  },
  {
   "cell_type": "code",
   "execution_count": 10,
   "id": "9e5b296b",
   "metadata": {},
   "outputs": [
    {
     "name": "stdout",
     "output_type": "stream",
     "text": [
      "[79.8 89.2 81.2 85.6 77.2]\n",
      "[90.2 84.  72.8 81.6 84.4]\n",
      "100\n",
      "[ 48  69  73  74  75  78  84  85  89  90  94  95  96 100]\n"
     ]
    }
   ],
   "source": [
    "#Data analysis examples\n",
    "\n",
    "print(np.mean(marks, axis=0))\n",
    "print(np.mean(marks, axis=1))\n",
    "print(np.max(marks))\n",
    "print(np.unique(marks))"
   ]
  }
 ],
 "metadata": {
  "kernelspec": {
   "display_name": "Python 3",
   "language": "python",
   "name": "python3"
  },
  "language_info": {
   "codemirror_mode": {
    "name": "ipython",
    "version": 3
   },
   "file_extension": ".py",
   "mimetype": "text/x-python",
   "name": "python",
   "nbconvert_exporter": "python",
   "pygments_lexer": "ipython3",
   "version": "3.13.5"
  }
 },
 "nbformat": 4,
 "nbformat_minor": 5
}
